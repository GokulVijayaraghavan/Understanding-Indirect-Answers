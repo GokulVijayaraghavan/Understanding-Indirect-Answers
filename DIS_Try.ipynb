{
  "nbformat": 4,
  "nbformat_minor": 0,
  "metadata": {
    "colab": {
      "name": "DIS Try",
      "provenance": [],
      "authorship_tag": "ABX9TyMhmod4f/e6TPMa5hmTJJ4e",
      "include_colab_link": true
    },
    "kernelspec": {
      "name": "python3",
      "display_name": "Python 3"
    },
    "language_info": {
      "name": "python"
    },
    "accelerator": "GPU"
  },
  "cells": [
    {
      "cell_type": "markdown",
      "metadata": {
        "id": "view-in-github",
        "colab_type": "text"
      },
      "source": [
        "<a href=\"https://colab.research.google.com/github/GokulVijayaraghavan/Understanding-Indirect-Answers/blob/main/DIS_Try.ipynb\" target=\"_parent\"><img src=\"https://colab.research.google.com/assets/colab-badge.svg\" alt=\"Open In Colab\"/></a>"
      ]
    },
    {
      "cell_type": "code",
      "metadata": {
        "colab": {
          "base_uri": "https://localhost:8080/"
        },
        "id": "khMI9UiAzCRg",
        "outputId": "e532df27-c7b8-48df-bd94-29cbabb3db24"
      },
      "source": [
        "!pip install tensorflow_text\n",
        "import tensorflow as tf\n",
        "import tensorflow_hub as hub\n",
        "import tensorflow_text as text\n",
        "from tensorflow.compat.v1 import ConfigProto\n",
        "from tensorflow.compat.v1 import InteractiveSession\n",
        "\n",
        "config = ConfigProto()\n",
        "config.gpu_options.allow_growth = True\n",
        "session = InteractiveSession(config = config)"
      ],
      "execution_count": null,
      "outputs": [
        {
          "output_type": "stream",
          "name": "stdout",
          "text": [
            "Requirement already satisfied: tensorflow_text in /usr/local/lib/python3.7/dist-packages (2.7.3)\n",
            "Requirement already satisfied: tensorflow<2.8,>=2.7.0 in /usr/local/lib/python3.7/dist-packages (from tensorflow_text) (2.7.0)\n",
            "Requirement already satisfied: tensorflow-hub>=0.8.0 in /usr/local/lib/python3.7/dist-packages (from tensorflow_text) (0.12.0)\n",
            "Requirement already satisfied: keras<2.8,>=2.7.0rc0 in /usr/local/lib/python3.7/dist-packages (from tensorflow<2.8,>=2.7.0->tensorflow_text) (2.7.0)\n",
            "Requirement already satisfied: tensorflow-io-gcs-filesystem>=0.21.0 in /usr/local/lib/python3.7/dist-packages (from tensorflow<2.8,>=2.7.0->tensorflow_text) (0.22.0)\n",
            "Requirement already satisfied: termcolor>=1.1.0 in /usr/local/lib/python3.7/dist-packages (from tensorflow<2.8,>=2.7.0->tensorflow_text) (1.1.0)\n",
            "Requirement already satisfied: six>=1.12.0 in /usr/local/lib/python3.7/dist-packages (from tensorflow<2.8,>=2.7.0->tensorflow_text) (1.15.0)\n",
            "Requirement already satisfied: flatbuffers<3.0,>=1.12 in /usr/local/lib/python3.7/dist-packages (from tensorflow<2.8,>=2.7.0->tensorflow_text) (2.0)\n",
            "Requirement already satisfied: libclang>=9.0.1 in /usr/local/lib/python3.7/dist-packages (from tensorflow<2.8,>=2.7.0->tensorflow_text) (12.0.0)\n",
            "Requirement already satisfied: opt-einsum>=2.3.2 in /usr/local/lib/python3.7/dist-packages (from tensorflow<2.8,>=2.7.0->tensorflow_text) (3.3.0)\n",
            "Requirement already satisfied: gast<0.5.0,>=0.2.1 in /usr/local/lib/python3.7/dist-packages (from tensorflow<2.8,>=2.7.0->tensorflow_text) (0.4.0)\n",
            "Requirement already satisfied: absl-py>=0.4.0 in /usr/local/lib/python3.7/dist-packages (from tensorflow<2.8,>=2.7.0->tensorflow_text) (0.12.0)\n",
            "Requirement already satisfied: numpy>=1.14.5 in /usr/local/lib/python3.7/dist-packages (from tensorflow<2.8,>=2.7.0->tensorflow_text) (1.19.5)\n",
            "Requirement already satisfied: h5py>=2.9.0 in /usr/local/lib/python3.7/dist-packages (from tensorflow<2.8,>=2.7.0->tensorflow_text) (3.1.0)\n",
            "Requirement already satisfied: tensorboard~=2.6 in /usr/local/lib/python3.7/dist-packages (from tensorflow<2.8,>=2.7.0->tensorflow_text) (2.7.0)\n",
            "Requirement already satisfied: astunparse>=1.6.0 in /usr/local/lib/python3.7/dist-packages (from tensorflow<2.8,>=2.7.0->tensorflow_text) (1.6.3)\n",
            "Requirement already satisfied: protobuf>=3.9.2 in /usr/local/lib/python3.7/dist-packages (from tensorflow<2.8,>=2.7.0->tensorflow_text) (3.17.3)\n",
            "Requirement already satisfied: google-pasta>=0.1.1 in /usr/local/lib/python3.7/dist-packages (from tensorflow<2.8,>=2.7.0->tensorflow_text) (0.2.0)\n",
            "Requirement already satisfied: wheel<1.0,>=0.32.0 in /usr/local/lib/python3.7/dist-packages (from tensorflow<2.8,>=2.7.0->tensorflow_text) (0.37.0)\n",
            "Requirement already satisfied: grpcio<2.0,>=1.24.3 in /usr/local/lib/python3.7/dist-packages (from tensorflow<2.8,>=2.7.0->tensorflow_text) (1.42.0)\n",
            "Requirement already satisfied: keras-preprocessing>=1.1.1 in /usr/local/lib/python3.7/dist-packages (from tensorflow<2.8,>=2.7.0->tensorflow_text) (1.1.2)\n",
            "Requirement already satisfied: wrapt>=1.11.0 in /usr/local/lib/python3.7/dist-packages (from tensorflow<2.8,>=2.7.0->tensorflow_text) (1.13.3)\n",
            "Requirement already satisfied: typing-extensions>=3.6.6 in /usr/local/lib/python3.7/dist-packages (from tensorflow<2.8,>=2.7.0->tensorflow_text) (3.10.0.2)\n",
            "Requirement already satisfied: tensorflow-estimator<2.8,~=2.7.0rc0 in /usr/local/lib/python3.7/dist-packages (from tensorflow<2.8,>=2.7.0->tensorflow_text) (2.7.0)\n",
            "Requirement already satisfied: cached-property in /usr/local/lib/python3.7/dist-packages (from h5py>=2.9.0->tensorflow<2.8,>=2.7.0->tensorflow_text) (1.5.2)\n",
            "Requirement already satisfied: werkzeug>=0.11.15 in /usr/local/lib/python3.7/dist-packages (from tensorboard~=2.6->tensorflow<2.8,>=2.7.0->tensorflow_text) (1.0.1)\n",
            "Requirement already satisfied: google-auth<3,>=1.6.3 in /usr/local/lib/python3.7/dist-packages (from tensorboard~=2.6->tensorflow<2.8,>=2.7.0->tensorflow_text) (1.35.0)\n",
            "Requirement already satisfied: setuptools>=41.0.0 in /usr/local/lib/python3.7/dist-packages (from tensorboard~=2.6->tensorflow<2.8,>=2.7.0->tensorflow_text) (57.4.0)\n",
            "Requirement already satisfied: tensorboard-plugin-wit>=1.6.0 in /usr/local/lib/python3.7/dist-packages (from tensorboard~=2.6->tensorflow<2.8,>=2.7.0->tensorflow_text) (1.8.0)\n",
            "Requirement already satisfied: google-auth-oauthlib<0.5,>=0.4.1 in /usr/local/lib/python3.7/dist-packages (from tensorboard~=2.6->tensorflow<2.8,>=2.7.0->tensorflow_text) (0.4.6)\n",
            "Requirement already satisfied: markdown>=2.6.8 in /usr/local/lib/python3.7/dist-packages (from tensorboard~=2.6->tensorflow<2.8,>=2.7.0->tensorflow_text) (3.3.6)\n",
            "Requirement already satisfied: requests<3,>=2.21.0 in /usr/local/lib/python3.7/dist-packages (from tensorboard~=2.6->tensorflow<2.8,>=2.7.0->tensorflow_text) (2.23.0)\n",
            "Requirement already satisfied: tensorboard-data-server<0.7.0,>=0.6.0 in /usr/local/lib/python3.7/dist-packages (from tensorboard~=2.6->tensorflow<2.8,>=2.7.0->tensorflow_text) (0.6.1)\n",
            "Requirement already satisfied: pyasn1-modules>=0.2.1 in /usr/local/lib/python3.7/dist-packages (from google-auth<3,>=1.6.3->tensorboard~=2.6->tensorflow<2.8,>=2.7.0->tensorflow_text) (0.2.8)\n",
            "Requirement already satisfied: rsa<5,>=3.1.4 in /usr/local/lib/python3.7/dist-packages (from google-auth<3,>=1.6.3->tensorboard~=2.6->tensorflow<2.8,>=2.7.0->tensorflow_text) (4.8)\n",
            "Requirement already satisfied: cachetools<5.0,>=2.0.0 in /usr/local/lib/python3.7/dist-packages (from google-auth<3,>=1.6.3->tensorboard~=2.6->tensorflow<2.8,>=2.7.0->tensorflow_text) (4.2.4)\n",
            "Requirement already satisfied: requests-oauthlib>=0.7.0 in /usr/local/lib/python3.7/dist-packages (from google-auth-oauthlib<0.5,>=0.4.1->tensorboard~=2.6->tensorflow<2.8,>=2.7.0->tensorflow_text) (1.3.0)\n",
            "Requirement already satisfied: importlib-metadata>=4.4 in /usr/local/lib/python3.7/dist-packages (from markdown>=2.6.8->tensorboard~=2.6->tensorflow<2.8,>=2.7.0->tensorflow_text) (4.8.2)\n",
            "Requirement already satisfied: zipp>=0.5 in /usr/local/lib/python3.7/dist-packages (from importlib-metadata>=4.4->markdown>=2.6.8->tensorboard~=2.6->tensorflow<2.8,>=2.7.0->tensorflow_text) (3.6.0)\n",
            "Requirement already satisfied: pyasn1<0.5.0,>=0.4.6 in /usr/local/lib/python3.7/dist-packages (from pyasn1-modules>=0.2.1->google-auth<3,>=1.6.3->tensorboard~=2.6->tensorflow<2.8,>=2.7.0->tensorflow_text) (0.4.8)\n",
            "Requirement already satisfied: idna<3,>=2.5 in /usr/local/lib/python3.7/dist-packages (from requests<3,>=2.21.0->tensorboard~=2.6->tensorflow<2.8,>=2.7.0->tensorflow_text) (2.10)\n",
            "Requirement already satisfied: chardet<4,>=3.0.2 in /usr/local/lib/python3.7/dist-packages (from requests<3,>=2.21.0->tensorboard~=2.6->tensorflow<2.8,>=2.7.0->tensorflow_text) (3.0.4)\n",
            "Requirement already satisfied: certifi>=2017.4.17 in /usr/local/lib/python3.7/dist-packages (from requests<3,>=2.21.0->tensorboard~=2.6->tensorflow<2.8,>=2.7.0->tensorflow_text) (2021.10.8)\n",
            "Requirement already satisfied: urllib3!=1.25.0,!=1.25.1,<1.26,>=1.21.1 in /usr/local/lib/python3.7/dist-packages (from requests<3,>=2.21.0->tensorboard~=2.6->tensorflow<2.8,>=2.7.0->tensorflow_text) (1.24.3)\n",
            "Requirement already satisfied: oauthlib>=3.0.0 in /usr/local/lib/python3.7/dist-packages (from requests-oauthlib>=0.7.0->google-auth-oauthlib<0.5,>=0.4.1->tensorboard~=2.6->tensorflow<2.8,>=2.7.0->tensorflow_text) (3.1.1)\n"
          ]
        },
        {
          "output_type": "stream",
          "name": "stderr",
          "text": [
            "/usr/local/lib/python3.7/dist-packages/tensorflow/python/client/session.py:1771: UserWarning: An interactive session is already active. This can cause out-of-memory errors in some cases. You must explicitly call `InteractiveSession.close()` to release resources held by the other session(s).\n",
            "  warnings.warn('An interactive session is already active. This can '\n"
          ]
        }
      ]
    },
    {
      "cell_type": "code",
      "metadata": {
        "colab": {
          "base_uri": "https://localhost:8080/"
        },
        "id": "u6qZfOqKzNWx",
        "outputId": "52144d24-b4c1-46eb-f85d-9e8cdd225176"
      },
      "source": [
        "from google.colab import drive\n",
        "drive.mount('/content/drive')"
      ],
      "execution_count": null,
      "outputs": [
        {
          "output_type": "stream",
          "name": "stdout",
          "text": [
            "Mounted at /content/drive\n"
          ]
        }
      ]
    },
    {
      "cell_type": "code",
      "metadata": {
        "colab": {
          "base_uri": "https://localhost:8080/",
          "height": 206
        },
        "id": "sfdCao2kzPr7",
        "outputId": "bf0d644c-46e4-45aa-d2a7-3f17f2590ec2"
      },
      "source": [
        "import pandas as pd\n",
        "import numpy as np\n",
        "import csv\n",
        "df=pd.read_excel('/content/drive/MyDrive/DL project/DIS.xlsx')\n",
        "df.head(5)"
      ],
      "execution_count": null,
      "outputs": [
        {
          "output_type": "execute_result",
          "data": {
            "text/html": [
              "<div>\n",
              "<style scoped>\n",
              "    .dataframe tbody tr th:only-of-type {\n",
              "        vertical-align: middle;\n",
              "    }\n",
              "\n",
              "    .dataframe tbody tr th {\n",
              "        vertical-align: top;\n",
              "    }\n",
              "\n",
              "    .dataframe thead th {\n",
              "        text-align: right;\n",
              "    }\n",
              "</style>\n",
              "<table border=\"1\" class=\"dataframe\">\n",
              "  <thead>\n",
              "    <tr style=\"text-align: right;\">\n",
              "      <th></th>\n",
              "      <th>Sent1</th>\n",
              "      <th>Sent2</th>\n",
              "      <th>Con</th>\n",
              "    </tr>\n",
              "  </thead>\n",
              "  <tbody>\n",
              "    <tr>\n",
              "      <th>0</th>\n",
              "      <td>A scientist making such a comment in a modern ...</td>\n",
              "      <td>It represents a view that plant biology was st...</td>\n",
              "      <td>but</td>\n",
              "    </tr>\n",
              "    <tr>\n",
              "      <th>1</th>\n",
              "      <td>Thought i was protecting you .</td>\n",
              "      <td>I know i made a mistake .</td>\n",
              "      <td>but</td>\n",
              "    </tr>\n",
              "    <tr>\n",
              "      <th>2</th>\n",
              "      <td>When your father died , i nearly died , she pa...</td>\n",
              "      <td>I had to go on for you and bess .</td>\n",
              "      <td>but</td>\n",
              "    </tr>\n",
              "    <tr>\n",
              "      <th>3</th>\n",
              "      <td>So i got her number from her friend stops and ...</td>\n",
              "      <td>Harassed her until she agreed to fly out to on...</td>\n",
              "      <td>and</td>\n",
              "    </tr>\n",
              "    <tr>\n",
              "      <th>4</th>\n",
              "      <td>You ask of things you know nothing .</td>\n",
              "      <td>You speak foolishly , the man threatened .</td>\n",
              "      <td>and</td>\n",
              "    </tr>\n",
              "  </tbody>\n",
              "</table>\n",
              "</div>"
            ],
            "text/plain": [
              "                                               Sent1  ...  Con\n",
              "0  A scientist making such a comment in a modern ...  ...  but\n",
              "1                     Thought i was protecting you .  ...  but\n",
              "2  When your father died , i nearly died , she pa...  ...  but\n",
              "3  So i got her number from her friend stops and ...  ...  and\n",
              "4               You ask of things you know nothing .  ...  and\n",
              "\n",
              "[5 rows x 3 columns]"
            ]
          },
          "metadata": {},
          "execution_count": 5
        }
      ]
    },
    {
      "cell_type": "code",
      "metadata": {
        "colab": {
          "base_uri": "https://localhost:8080/"
        },
        "id": "Z4eTXnP8zauk",
        "outputId": "7638722a-b511-45cd-fca5-f361b1ce9965"
      },
      "source": [
        "df['Con'].value_counts()"
      ],
      "execution_count": null,
      "outputs": [
        {
          "output_type": "execute_result",
          "data": {
            "text/plain": [
              "but        51257\n",
              "and        50995\n",
              "when       26432\n",
              "if         23773\n",
              "because     8371\n",
              "Name: Con, dtype: int64"
            ]
          },
          "metadata": {},
          "execution_count": 6
        }
      ]
    },
    {
      "cell_type": "code",
      "metadata": {
        "id": "ZuxK9boA0sBt",
        "colab": {
          "base_uri": "https://localhost:8080/"
        },
        "outputId": "0b4e050b-92cb-4418-cd18-a17945f22a3f"
      },
      "source": [
        "df['final_sentence'] = df['Sent1'].str.cat(df['Sent2'],sep=\" [SEP] \")\n",
        "df['Con'] = df['Con'].replace('but', 'No')\n",
        "df['Con'] = df['Con'].replace('and', 'Yes')\n",
        "df['Con'] = df['Con'].replace('because', 'Yes')\n",
        "df['Con'] = df['Con'].replace('if', 'Yes, subject to some conditions')\n",
        "df['Con'] = df['Con'].replace('when', 'Yes, subject to some conditions')\n",
        "df['Con'].value_counts()"
      ],
      "execution_count": null,
      "outputs": [
        {
          "output_type": "execute_result",
          "data": {
            "text/plain": [
              "Yes                                59366\n",
              "No                                 51257\n",
              "Yes, subject to some conditions    50205\n",
              "Name: Con, dtype: int64"
            ]
          },
          "metadata": {},
          "execution_count": 7
        }
      ]
    },
    {
      "cell_type": "code",
      "metadata": {
        "colab": {
          "base_uri": "https://localhost:8080/"
        },
        "id": "oUMxBP1B5T_J",
        "outputId": "e5c24d26-8a63-4c3b-b4b3-6e166a93e81f"
      },
      "source": [
        "df = df.head(10000)\n",
        "df['Con'].value_counts()"
      ],
      "execution_count": null,
      "outputs": [
        {
          "output_type": "execute_result",
          "data": {
            "text/plain": [
              "Yes                                3748\n",
              "No                                 3199\n",
              "Yes, subject to some conditions    3053\n",
              "Name: Con, dtype: int64"
            ]
          },
          "metadata": {},
          "execution_count": 8
        }
      ]
    },
    {
      "cell_type": "code",
      "metadata": {
        "colab": {
          "base_uri": "https://localhost:8080/",
          "height": 423
        },
        "id": "kF3CTONA5Xo9",
        "outputId": "f83d9b10-03a5-426f-ab45-f00d189b19fd"
      },
      "source": [
        "y = pd.get_dummies(df.Con, prefix='con')\n",
        "y['con_In the middle, neither yes nor no'] = 0\n",
        "y['con_Other'] = 0\n",
        "y['con_N/A'] = 0\n",
        "y"
      ],
      "execution_count": null,
      "outputs": [
        {
          "output_type": "execute_result",
          "data": {
            "text/html": [
              "<div>\n",
              "<style scoped>\n",
              "    .dataframe tbody tr th:only-of-type {\n",
              "        vertical-align: middle;\n",
              "    }\n",
              "\n",
              "    .dataframe tbody tr th {\n",
              "        vertical-align: top;\n",
              "    }\n",
              "\n",
              "    .dataframe thead th {\n",
              "        text-align: right;\n",
              "    }\n",
              "</style>\n",
              "<table border=\"1\" class=\"dataframe\">\n",
              "  <thead>\n",
              "    <tr style=\"text-align: right;\">\n",
              "      <th></th>\n",
              "      <th>con_No</th>\n",
              "      <th>con_Yes</th>\n",
              "      <th>con_Yes, subject to some conditions</th>\n",
              "      <th>con_In the middle, neither yes nor no</th>\n",
              "      <th>con_Other</th>\n",
              "      <th>con_N/A</th>\n",
              "    </tr>\n",
              "  </thead>\n",
              "  <tbody>\n",
              "    <tr>\n",
              "      <th>0</th>\n",
              "      <td>1</td>\n",
              "      <td>0</td>\n",
              "      <td>0</td>\n",
              "      <td>0</td>\n",
              "      <td>0</td>\n",
              "      <td>0</td>\n",
              "    </tr>\n",
              "    <tr>\n",
              "      <th>1</th>\n",
              "      <td>1</td>\n",
              "      <td>0</td>\n",
              "      <td>0</td>\n",
              "      <td>0</td>\n",
              "      <td>0</td>\n",
              "      <td>0</td>\n",
              "    </tr>\n",
              "    <tr>\n",
              "      <th>2</th>\n",
              "      <td>1</td>\n",
              "      <td>0</td>\n",
              "      <td>0</td>\n",
              "      <td>0</td>\n",
              "      <td>0</td>\n",
              "      <td>0</td>\n",
              "    </tr>\n",
              "    <tr>\n",
              "      <th>3</th>\n",
              "      <td>0</td>\n",
              "      <td>1</td>\n",
              "      <td>0</td>\n",
              "      <td>0</td>\n",
              "      <td>0</td>\n",
              "      <td>0</td>\n",
              "    </tr>\n",
              "    <tr>\n",
              "      <th>4</th>\n",
              "      <td>0</td>\n",
              "      <td>1</td>\n",
              "      <td>0</td>\n",
              "      <td>0</td>\n",
              "      <td>0</td>\n",
              "      <td>0</td>\n",
              "    </tr>\n",
              "    <tr>\n",
              "      <th>...</th>\n",
              "      <td>...</td>\n",
              "      <td>...</td>\n",
              "      <td>...</td>\n",
              "      <td>...</td>\n",
              "      <td>...</td>\n",
              "      <td>...</td>\n",
              "    </tr>\n",
              "    <tr>\n",
              "      <th>9995</th>\n",
              "      <td>0</td>\n",
              "      <td>1</td>\n",
              "      <td>0</td>\n",
              "      <td>0</td>\n",
              "      <td>0</td>\n",
              "      <td>0</td>\n",
              "    </tr>\n",
              "    <tr>\n",
              "      <th>9996</th>\n",
              "      <td>0</td>\n",
              "      <td>1</td>\n",
              "      <td>0</td>\n",
              "      <td>0</td>\n",
              "      <td>0</td>\n",
              "      <td>0</td>\n",
              "    </tr>\n",
              "    <tr>\n",
              "      <th>9997</th>\n",
              "      <td>1</td>\n",
              "      <td>0</td>\n",
              "      <td>0</td>\n",
              "      <td>0</td>\n",
              "      <td>0</td>\n",
              "      <td>0</td>\n",
              "    </tr>\n",
              "    <tr>\n",
              "      <th>9998</th>\n",
              "      <td>0</td>\n",
              "      <td>0</td>\n",
              "      <td>1</td>\n",
              "      <td>0</td>\n",
              "      <td>0</td>\n",
              "      <td>0</td>\n",
              "    </tr>\n",
              "    <tr>\n",
              "      <th>9999</th>\n",
              "      <td>1</td>\n",
              "      <td>0</td>\n",
              "      <td>0</td>\n",
              "      <td>0</td>\n",
              "      <td>0</td>\n",
              "      <td>0</td>\n",
              "    </tr>\n",
              "  </tbody>\n",
              "</table>\n",
              "<p>10000 rows × 6 columns</p>\n",
              "</div>"
            ],
            "text/plain": [
              "      con_No  con_Yes  ...  con_Other  con_N/A\n",
              "0          1        0  ...          0        0\n",
              "1          1        0  ...          0        0\n",
              "2          1        0  ...          0        0\n",
              "3          0        1  ...          0        0\n",
              "4          0        1  ...          0        0\n",
              "...      ...      ...  ...        ...      ...\n",
              "9995       0        1  ...          0        0\n",
              "9996       0        1  ...          0        0\n",
              "9997       1        0  ...          0        0\n",
              "9998       0        0  ...          0        0\n",
              "9999       1        0  ...          0        0\n",
              "\n",
              "[10000 rows x 6 columns]"
            ]
          },
          "metadata": {},
          "execution_count": 9
        }
      ]
    },
    {
      "cell_type": "code",
      "metadata": {
        "id": "avX2dZ7J5fRI"
      },
      "source": [
        "bert_preprocess = hub.KerasLayer(\"https://tfhub.dev/tensorflow/bert_en_uncased_preprocess/3\", trainable=True)\n",
        "bert_encoder = hub.KerasLayer(\"https://tfhub.dev/tensorflow/bert_en_uncased_L-12_H-768_A-12/4\", trainable=True)"
      ],
      "execution_count": null,
      "outputs": []
    },
    {
      "cell_type": "code",
      "metadata": {
        "colab": {
          "base_uri": "https://localhost:8080/"
        },
        "id": "UO0V50NK5w8h",
        "outputId": "5a8e7ab3-9267-4b06-aaa2-6a7eb5e66257"
      },
      "source": [
        "# Bert layers\n",
        "text_input = tf.keras.layers.Input(shape=(), dtype=tf.string, name='text') # Textual input layer\n",
        "preprocessed_text = bert_preprocess(text_input) # The preprocessing of text\n",
        "outputs = bert_encoder(preprocessed_text) # Encoded o/p\n",
        "\n",
        "# Neural network layers\n",
        "l = tf.keras.layers.Dense(6, activation='softmax', name=\"soft_output\")(outputs['pooled_output'])\n",
        "\n",
        "# Use inputs and outputs to construct a final model\n",
        "model = tf.keras.Model(inputs=[text_input], outputs = [l])\n",
        "model.summary()"
      ],
      "execution_count": null,
      "outputs": [
        {
          "output_type": "stream",
          "name": "stdout",
          "text": [
            "WARNING:tensorflow:AutoGraph could not transform <bound method Socket.send of <zmq.Socket(zmq.PUSH) at 0x7f454db9f910>> and will run it as-is.\n",
            "Please report this to the TensorFlow team. When filing the bug, set the verbosity to 10 (on Linux, `export AUTOGRAPH_VERBOSITY=10`) and attach the full output.\n",
            "Cause: module, class, method, function, traceback, frame, or code object was expected, got cython_function_or_method\n",
            "To silence this warning, decorate the function with @tf.autograph.experimental.do_not_convert\n"
          ]
        },
        {
          "output_type": "stream",
          "name": "stderr",
          "text": [
            "ERROR:absl:hub.KerasLayer is trainable but has zero trainable weights.\n",
            "WARNING:tensorflow:AutoGraph could not transform <bound method Socket.send of <zmq.Socket(zmq.PUSH) at 0x7f454db9f910>> and will run it as-is.\n",
            "Please report this to the TensorFlow team. When filing the bug, set the verbosity to 10 (on Linux, `export AUTOGRAPH_VERBOSITY=10`) and attach the full output.\n",
            "Cause: module, class, method, function, traceback, frame, or code object was expected, got cython_function_or_method\n",
            "To silence this warning, decorate the function with @tf.autograph.experimental.do_not_convert\n"
          ]
        },
        {
          "output_type": "stream",
          "name": "stdout",
          "text": [
            "WARNING: AutoGraph could not transform <bound method Socket.send of <zmq.Socket(zmq.PUSH) at 0x7f454db9f910>> and will run it as-is.\n",
            "Please report this to the TensorFlow team. When filing the bug, set the verbosity to 10 (on Linux, `export AUTOGRAPH_VERBOSITY=10`) and attach the full output.\n",
            "Cause: module, class, method, function, traceback, frame, or code object was expected, got cython_function_or_method\n",
            "To silence this warning, decorate the function with @tf.autograph.experimental.do_not_convert\n",
            "WARNING:tensorflow:AutoGraph could not transform <function wrap at 0x7f4568e87c20> and will run it as-is.\n",
            "Cause: while/else statement not yet supported\n",
            "To silence this warning, decorate the function with @tf.autograph.experimental.do_not_convert\n"
          ]
        },
        {
          "output_type": "stream",
          "name": "stderr",
          "text": [
            "WARNING:tensorflow:AutoGraph could not transform <function wrap at 0x7f4568e87c20> and will run it as-is.\n",
            "Cause: while/else statement not yet supported\n",
            "To silence this warning, decorate the function with @tf.autograph.experimental.do_not_convert\n"
          ]
        },
        {
          "output_type": "stream",
          "name": "stdout",
          "text": [
            "Model: \"model\"\n",
            "__________________________________________________________________________________________________\n",
            " Layer (type)                   Output Shape         Param #     Connected to                     \n",
            "==================================================================================================\n",
            " text (InputLayer)              [(None,)]            0           []                               \n",
            "                                                                                                  \n",
            " keras_layer (KerasLayer)       {'input_type_ids':   0           ['text[0][0]']                   \n",
            "                                (None, 128),                                                      \n",
            "                                 'input_word_ids':                                                \n",
            "                                (None, 128),                                                      \n",
            "                                 'input_mask': (Non                                               \n",
            "                                e, 128)}                                                          \n",
            "                                                                                                  \n",
            " keras_layer_1 (KerasLayer)     {'pooled_output': (  109482241   ['keras_layer[0][0]',            \n",
            "                                None, 768),                       'keras_layer[0][1]',            \n",
            "                                 'sequence_output':               'keras_layer[0][2]']            \n",
            "                                 (None, 128, 768),                                                \n",
            "                                 'encoder_outputs':                                               \n",
            "                                 [(None, 128, 768),                                               \n",
            "                                 (None, 128, 768),                                                \n",
            "                                 (None, 128, 768),                                                \n",
            "                                 (None, 128, 768),                                                \n",
            "                                 (None, 128, 768),                                                \n",
            "                                 (None, 128, 768),                                                \n",
            "                                 (None, 128, 768),                                                \n",
            "                                 (None, 128, 768),                                                \n",
            "                                 (None, 128, 768),                                                \n",
            "                                 (None, 128, 768),                                                \n",
            "                                 (None, 128, 768),                                                \n",
            "                                 (None, 128, 768)],                                               \n",
            "                                 'default': (None,                                                \n",
            "                                768)}                                                             \n",
            "                                                                                                  \n",
            " soft_output (Dense)            (None, 6)            4614        ['keras_layer_1[0][13]']         \n",
            "                                                                                                  \n",
            "==================================================================================================\n",
            "Total params: 109,486,855\n",
            "Trainable params: 109,486,854\n",
            "Non-trainable params: 1\n",
            "__________________________________________________________________________________________________\n",
            "WARNING: AutoGraph could not transform <function wrap at 0x7f4568e87c20> and will run it as-is.\n",
            "Cause: while/else statement not yet supported\n",
            "To silence this warning, decorate the function with @tf.autograph.experimental.do_not_convert\n"
          ]
        }
      ]
    },
    {
      "cell_type": "code",
      "metadata": {
        "colab": {
          "base_uri": "https://localhost:8080/"
        },
        "id": "8VcSpVq95y97",
        "outputId": "faf2f492-9cc1-4526-fb8c-3f61b86b4f23"
      },
      "source": [
        "METRICS = [\n",
        "      tf.keras.metrics.BinaryAccuracy(name='accuracy'),\n",
        "      tf.keras.metrics.Precision(name='precision'),\n",
        "      tf.keras.metrics.Recall(name='recall')\n",
        "]\n",
        "import keras\n",
        "optim = tf.keras.optimizers.Adam(0.00002)\n",
        "optim.learning_rate.assign(0.00002)\n",
        "print(optim.learning_rate)\n",
        "model.compile(optimizer=optim,loss='CategoricalCrossentropy',metrics=METRICS)"
      ],
      "execution_count": null,
      "outputs": [
        {
          "output_type": "stream",
          "name": "stdout",
          "text": [
            "<tf.Variable 'learning_rate:0' shape=() dtype=float32, numpy=2e-05>\n"
          ]
        }
      ]
    },
    {
      "cell_type": "code",
      "metadata": {
        "colab": {
          "base_uri": "https://localhost:8080/"
        },
        "id": "VvoyEl7P58wB",
        "outputId": "15da7da8-a4a1-4691-ac1d-4a433706295b"
      },
      "source": [
        "model.fit(df['final_sentence'], y, epochs=2, batch_size=32)"
      ],
      "execution_count": null,
      "outputs": [
        {
          "output_type": "stream",
          "name": "stdout",
          "text": [
            "Epoch 1/2\n",
            "313/313 [==============================] - 513s 2s/step - loss: 0.8117 - accuracy: 0.8860 - precision: 0.7085 - recall: 0.5373\n",
            "Epoch 2/2\n",
            "313/313 [==============================] - 495s 2s/step - loss: 0.5549 - accuracy: 0.9238 - precision: 0.7968 - recall: 0.7284\n"
          ]
        },
        {
          "output_type": "execute_result",
          "data": {
            "text/plain": [
              "<keras.callbacks.History at 0x7f444ed85510>"
            ]
          },
          "metadata": {},
          "execution_count": 13
        }
      ]
    },
    {
      "cell_type": "code",
      "metadata": {
        "colab": {
          "base_uri": "https://localhost:8080/"
        },
        "id": "oPrnVuwU-iCt",
        "outputId": "a1d0311b-24fc-494e-fe2d-afd8b26dc062"
      },
      "source": [
        "df_valid = pd.read_excel('/content/drive/MyDrive/DL project/circa_validate.xlsx')\n",
        "#print(df_valid['goldstandard2'].value_counts())\n",
        "df_valid['goldstandard2'] = df_valid['goldstandard2'].replace(np.nan, 'N/A')\n",
        "df_valid['goldstandard2'] = df_valid['goldstandard2'].astype(str)\n",
        "df_valid['F'] = df_valid['question-X'].str.cat(df_valid['answer-Y'],sep=\" [SEP] \")\n",
        "df_valid['F']\n",
        "print(df_valid['F'].value_counts())"
      ],
      "execution_count": null,
      "outputs": [
        {
          "output_type": "stream",
          "name": "stdout",
          "text": [
            "Do you own property already? [SEP] I've only ever rented.                    2\n",
            "Do you like Jay Z's music? [SEP] I prefer Beyonce's.                         2\n",
            "Have you ever read Neil Gaiman? [SEP] Who is he?                             2\n",
            "Did you lock the door? [SEP] I think I did                                   2\n",
            "Am I the same as you thought I'd be now? [SEP] You haven't changed a bit.    2\n",
            "                                                                            ..\n",
            "Is your job related to IT? [SEP] It's in a related field.                    1\n",
            "How about Stephen King? [SEP] Stephen King is a master!                      1\n",
            "Is this a fun neighbourhood? [SEP] I can't believe how fun it is.            1\n",
            "Are you looking for a novel? [SEP] I prefer self-help books.                 1\n",
            "Did you go to University? [SEP] I graduated from UCLA.                       1\n",
            "Name: F, Length: 6845, dtype: int64\n"
          ]
        }
      ]
    },
    {
      "cell_type": "code",
      "metadata": {
        "colab": {
          "base_uri": "https://localhost:8080/",
          "height": 423
        },
        "id": "bBEGMxwy-jg_",
        "outputId": "f7489e93-96c2-4b5b-cb38-3e2bf979fda0"
      },
      "source": [
        "y_valid = pd.get_dummies(df_valid.goldstandard2, prefix='con')\n",
        "y_valid"
      ],
      "execution_count": null,
      "outputs": [
        {
          "output_type": "execute_result",
          "data": {
            "text/html": [
              "<div>\n",
              "<style scoped>\n",
              "    .dataframe tbody tr th:only-of-type {\n",
              "        vertical-align: middle;\n",
              "    }\n",
              "\n",
              "    .dataframe tbody tr th {\n",
              "        vertical-align: top;\n",
              "    }\n",
              "\n",
              "    .dataframe thead th {\n",
              "        text-align: right;\n",
              "    }\n",
              "</style>\n",
              "<table border=\"1\" class=\"dataframe\">\n",
              "  <thead>\n",
              "    <tr style=\"text-align: right;\">\n",
              "      <th></th>\n",
              "      <th>con_In the middle, neither yes nor no</th>\n",
              "      <th>con_N/A</th>\n",
              "      <th>con_No</th>\n",
              "      <th>con_Other</th>\n",
              "      <th>con_Yes</th>\n",
              "      <th>con_Yes, subject to some conditions</th>\n",
              "    </tr>\n",
              "  </thead>\n",
              "  <tbody>\n",
              "    <tr>\n",
              "      <th>0</th>\n",
              "      <td>0</td>\n",
              "      <td>0</td>\n",
              "      <td>0</td>\n",
              "      <td>0</td>\n",
              "      <td>1</td>\n",
              "      <td>0</td>\n",
              "    </tr>\n",
              "    <tr>\n",
              "      <th>1</th>\n",
              "      <td>0</td>\n",
              "      <td>0</td>\n",
              "      <td>1</td>\n",
              "      <td>0</td>\n",
              "      <td>0</td>\n",
              "      <td>0</td>\n",
              "    </tr>\n",
              "    <tr>\n",
              "      <th>2</th>\n",
              "      <td>0</td>\n",
              "      <td>0</td>\n",
              "      <td>1</td>\n",
              "      <td>0</td>\n",
              "      <td>0</td>\n",
              "      <td>0</td>\n",
              "    </tr>\n",
              "    <tr>\n",
              "      <th>3</th>\n",
              "      <td>0</td>\n",
              "      <td>0</td>\n",
              "      <td>0</td>\n",
              "      <td>0</td>\n",
              "      <td>1</td>\n",
              "      <td>0</td>\n",
              "    </tr>\n",
              "    <tr>\n",
              "      <th>4</th>\n",
              "      <td>0</td>\n",
              "      <td>0</td>\n",
              "      <td>1</td>\n",
              "      <td>0</td>\n",
              "      <td>0</td>\n",
              "      <td>0</td>\n",
              "    </tr>\n",
              "    <tr>\n",
              "      <th>...</th>\n",
              "      <td>...</td>\n",
              "      <td>...</td>\n",
              "      <td>...</td>\n",
              "      <td>...</td>\n",
              "      <td>...</td>\n",
              "      <td>...</td>\n",
              "    </tr>\n",
              "    <tr>\n",
              "      <th>6849</th>\n",
              "      <td>0</td>\n",
              "      <td>0</td>\n",
              "      <td>0</td>\n",
              "      <td>0</td>\n",
              "      <td>1</td>\n",
              "      <td>0</td>\n",
              "    </tr>\n",
              "    <tr>\n",
              "      <th>6850</th>\n",
              "      <td>0</td>\n",
              "      <td>0</td>\n",
              "      <td>1</td>\n",
              "      <td>0</td>\n",
              "      <td>0</td>\n",
              "      <td>0</td>\n",
              "    </tr>\n",
              "    <tr>\n",
              "      <th>6851</th>\n",
              "      <td>0</td>\n",
              "      <td>0</td>\n",
              "      <td>0</td>\n",
              "      <td>0</td>\n",
              "      <td>1</td>\n",
              "      <td>0</td>\n",
              "    </tr>\n",
              "    <tr>\n",
              "      <th>6852</th>\n",
              "      <td>0</td>\n",
              "      <td>0</td>\n",
              "      <td>0</td>\n",
              "      <td>0</td>\n",
              "      <td>1</td>\n",
              "      <td>0</td>\n",
              "    </tr>\n",
              "    <tr>\n",
              "      <th>6853</th>\n",
              "      <td>0</td>\n",
              "      <td>0</td>\n",
              "      <td>1</td>\n",
              "      <td>0</td>\n",
              "      <td>0</td>\n",
              "      <td>0</td>\n",
              "    </tr>\n",
              "  </tbody>\n",
              "</table>\n",
              "<p>6854 rows × 6 columns</p>\n",
              "</div>"
            ],
            "text/plain": [
              "      con_In the middle, neither yes nor no  ...  con_Yes, subject to some conditions\n",
              "0                                         0  ...                                    0\n",
              "1                                         0  ...                                    0\n",
              "2                                         0  ...                                    0\n",
              "3                                         0  ...                                    0\n",
              "4                                         0  ...                                    0\n",
              "...                                     ...  ...                                  ...\n",
              "6849                                      0  ...                                    0\n",
              "6850                                      0  ...                                    0\n",
              "6851                                      0  ...                                    0\n",
              "6852                                      0  ...                                    0\n",
              "6853                                      0  ...                                    0\n",
              "\n",
              "[6854 rows x 6 columns]"
            ]
          },
          "metadata": {},
          "execution_count": 15
        }
      ]
    },
    {
      "cell_type": "code",
      "metadata": {
        "colab": {
          "base_uri": "https://localhost:8080/"
        },
        "id": "lJJ_xrQ0-lrA",
        "outputId": "8d66db83-8bb7-49f5-cf3f-2c2497d2024d"
      },
      "source": [
        "model.evaluate(df_valid['F'], y_valid)"
      ],
      "execution_count": null,
      "outputs": [
        {
          "output_type": "stream",
          "name": "stdout",
          "text": [
            "215/215 [==============================] - 135s 624ms/step - loss: 5.6892 - accuracy: 0.7077 - precision: 0.0736 - recall: 0.0651\n"
          ]
        },
        {
          "output_type": "execute_result",
          "data": {
            "text/plain": [
              "[5.68915319442749,\n",
              " 0.7077375054359436,\n",
              " 0.07363381236791611,\n",
              " 0.06507149338722229]"
            ]
          },
          "metadata": {},
          "execution_count": 16
        }
      ]
    },
    {
      "cell_type": "code",
      "metadata": {
        "id": "KxdsHQzr-mDP"
      },
      "source": [
        "y_predicted = model.predict(df_valid['F'])"
      ],
      "execution_count": null,
      "outputs": []
    },
    {
      "cell_type": "code",
      "metadata": {
        "colab": {
          "base_uri": "https://localhost:8080/"
        },
        "id": "vwU8UvYK-nq7",
        "outputId": "89b875d2-11b6-479e-84cb-213b838c8330"
      },
      "source": [
        "y_predicted"
      ],
      "execution_count": null,
      "outputs": [
        {
          "output_type": "execute_result",
          "data": {
            "text/plain": [
              "array([[9.1056496e-01, 8.1469424e-02, 5.9025935e-03, 9.1805577e-04,\n",
              "        6.9078966e-04, 4.5417703e-04],\n",
              "       [8.5655004e-02, 2.0391354e-01, 7.0987660e-01, 2.7764257e-04,\n",
              "        1.5160519e-04, 1.2562975e-04],\n",
              "       [7.0140886e-01, 2.0562421e-01, 9.1122068e-02, 9.3674351e-04,\n",
              "        4.4578005e-04, 4.6234392e-04],\n",
              "       ...,\n",
              "       [5.8150846e-01, 4.0316635e-01, 1.4532319e-02, 2.4046785e-04,\n",
              "        3.3710652e-04, 2.1530509e-04],\n",
              "       [2.8709039e-01, 5.3632540e-01, 1.7577611e-01, 1.9824621e-04,\n",
              "        2.8309203e-04, 3.2679850e-04],\n",
              "       [6.6971558e-01, 3.2289612e-01, 4.9510435e-03, 7.2893989e-04,\n",
              "        9.6964464e-04, 7.3872972e-04]], dtype=float32)"
            ]
          },
          "metadata": {},
          "execution_count": 18
        }
      ]
    },
    {
      "cell_type": "code",
      "metadata": {
        "colab": {
          "base_uri": "https://localhost:8080/"
        },
        "id": "NzxRtOXv-pII",
        "outputId": "d7de4de4-c70e-4829-e91d-7ba76ef2f1dc"
      },
      "source": [
        "y_predicted.shape"
      ],
      "execution_count": null,
      "outputs": [
        {
          "output_type": "execute_result",
          "data": {
            "text/plain": [
              "(6854, 6)"
            ]
          },
          "metadata": {},
          "execution_count": 19
        }
      ]
    },
    {
      "cell_type": "code",
      "metadata": {
        "id": "0Djraxr5-qiq"
      },
      "source": [
        "pred_results = tf.cast(tf.equal(y_predicted, tf.reduce_max(y_predicted, axis = 1, keepdims=True)), tf.float32)"
      ],
      "execution_count": null,
      "outputs": []
    },
    {
      "cell_type": "code",
      "metadata": {
        "colab": {
          "base_uri": "https://localhost:8080/"
        },
        "id": "oAHW1v1l-r2I",
        "outputId": "2ca114df-e56e-40e6-c0e4-9f39a53e6e62"
      },
      "source": [
        "pred_results"
      ],
      "execution_count": null,
      "outputs": [
        {
          "output_type": "execute_result",
          "data": {
            "text/plain": [
              "<tf.Tensor: shape=(6854, 6), dtype=float32, numpy=\n",
              "array([[1., 0., 0., 0., 0., 0.],\n",
              "       [0., 0., 1., 0., 0., 0.],\n",
              "       [1., 0., 0., 0., 0., 0.],\n",
              "       ...,\n",
              "       [1., 0., 0., 0., 0., 0.],\n",
              "       [0., 1., 0., 0., 0., 0.],\n",
              "       [1., 0., 0., 0., 0., 0.]], dtype=float32)>"
            ]
          },
          "metadata": {},
          "execution_count": 21
        }
      ]
    },
    {
      "cell_type": "code",
      "metadata": {
        "id": "9xIjPl9hEI_k"
      },
      "source": [
        "pred_results = pd.DataFrame(pred_results.numpy(), columns = ['con_No',\n",
        "                                       'con_Yes',\n",
        "                                       'con_Yes, subject to some conditions',\n",
        "                                       'con_In the middle, neither yes nor no', \t\n",
        "                                       'con_Other',\n",
        "                                       'con_N/A'\t  \t\n",
        "                                       ])\n",
        "\n",
        "pred_results.shape\n",
        "pred_results.to_numpy()\n",
        "pred_results = [np.where(r==1)[0][0] for r in pred_results.to_numpy()]\n",
        "pred_results = pd.DataFrame(pred_results, columns=['goldstandard2'])\n",
        "\n",
        "pred_results['goldstandard2'] = pred_results['goldstandard2'].map({0:'No', \n",
        "                                                   1:'Yes',\n",
        "                                                   2:'Yes, subject to some conditions', \n",
        "                                                   3:'In the middle, neither yes nor no', \n",
        "                                                   4:'Other' ,\n",
        "                                                   5:'N/A',})"
      ],
      "execution_count": null,
      "outputs": []
    },
    {
      "cell_type": "code",
      "metadata": {
        "id": "sN9LWLEfEoK5"
      },
      "source": [
        "y_valid.shape\n",
        "y_valid.to_numpy()\n",
        "validation_gtruths = [np.where(r==1)[0][0] for r in y_valid.to_numpy()]\n",
        "validation_gtruths = pd.DataFrame(validation_gtruths, columns=['goldstandard2'])\n",
        "\n",
        "validation_gtruths['goldstandard2'] = validation_gtruths['goldstandard2'].map({0:'In the middle, neither yes nor no', \n",
        "                                                   1:'N/A',\n",
        "                                                   2:'No', \n",
        "                                                   3:'Other', \n",
        "                                                   4:'Yes' ,\n",
        "                                                   5:'Yes, subject to some conditions',})"
      ],
      "execution_count": null,
      "outputs": []
    },
    {
      "cell_type": "code",
      "metadata": {
        "colab": {
          "base_uri": "https://localhost:8080/"
        },
        "id": "49QfMhYqEv35",
        "outputId": "0002a31b-aa60-4a98-dc99-01ca019efe2b"
      },
      "source": [
        "# MNLI Output\n",
        "from sklearn.metrics import classification_report\n",
        "print(classification_report(pred_results['goldstandard2'], validation_gtruths['goldstandard2']))"
      ],
      "execution_count": null,
      "outputs": [
        {
          "output_type": "stream",
          "name": "stdout",
          "text": [
            "                                   precision    recall  f1-score   support\n",
            "\n",
            "In the middle, neither yes nor no       0.00      0.00      0.00         0\n",
            "                              N/A       0.00      0.00      0.00         0\n",
            "                               No       0.75      0.45      0.57      4209\n",
            "                            Other       0.00      0.00      0.00         0\n",
            "                              Yes       0.34      0.65      0.45      1764\n",
            "  Yes, subject to some conditions       0.01      0.01      0.01       881\n",
            "\n",
            "                         accuracy                           0.45      6854\n",
            "                        macro avg       0.18      0.19      0.17      6854\n",
            "                     weighted avg       0.55      0.45      0.46      6854\n",
            "\n"
          ]
        },
        {
          "output_type": "stream",
          "name": "stderr",
          "text": [
            "/usr/local/lib/python3.7/dist-packages/sklearn/metrics/_classification.py:1308: UndefinedMetricWarning: Recall and F-score are ill-defined and being set to 0.0 in labels with no true samples. Use `zero_division` parameter to control this behavior.\n",
            "  _warn_prf(average, modifier, msg_start, len(result))\n",
            "/usr/local/lib/python3.7/dist-packages/sklearn/metrics/_classification.py:1308: UndefinedMetricWarning: Recall and F-score are ill-defined and being set to 0.0 in labels with no true samples. Use `zero_division` parameter to control this behavior.\n",
            "  _warn_prf(average, modifier, msg_start, len(result))\n",
            "/usr/local/lib/python3.7/dist-packages/sklearn/metrics/_classification.py:1308: UndefinedMetricWarning: Recall and F-score are ill-defined and being set to 0.0 in labels with no true samples. Use `zero_division` parameter to control this behavior.\n",
            "  _warn_prf(average, modifier, msg_start, len(result))\n"
          ]
        }
      ]
    },
    {
      "cell_type": "code",
      "metadata": {
        "colab": {
          "base_uri": "https://localhost:8080/"
        },
        "id": "-1tMJAG_ExJl",
        "outputId": "2ac7f621-e3f4-442b-d167-5d88d1cf315c"
      },
      "source": [
        "from google.colab import drive\n",
        "drive.mount('/content/drive')"
      ],
      "execution_count": null,
      "outputs": [
        {
          "output_type": "stream",
          "name": "stdout",
          "text": [
            "Drive already mounted at /content/drive; to attempt to forcibly remount, call drive.mount(\"/content/drive\", force_remount=True).\n"
          ]
        }
      ]
    },
    {
      "cell_type": "code",
      "metadata": {
        "colab": {
          "base_uri": "https://localhost:8080/",
          "height": 423
        },
        "id": "gRiC_ZAxE2oS",
        "outputId": "fb195226-ec4f-4053-b15a-4ad4e068875a"
      },
      "source": [
        "df_circa_train = pd.read_excel('/content/drive/MyDrive/DL project/circa_train.xlsx')\n",
        "df_circa_train = df_circa_train[['question-X','answer-Y','goldstandard2']].copy()\n",
        "df_circa_train"
      ],
      "execution_count": null,
      "outputs": [
        {
          "output_type": "execute_result",
          "data": {
            "text/html": [
              "<div>\n",
              "<style scoped>\n",
              "    .dataframe tbody tr th:only-of-type {\n",
              "        vertical-align: middle;\n",
              "    }\n",
              "\n",
              "    .dataframe tbody tr th {\n",
              "        vertical-align: top;\n",
              "    }\n",
              "\n",
              "    .dataframe thead th {\n",
              "        text-align: right;\n",
              "    }\n",
              "</style>\n",
              "<table border=\"1\" class=\"dataframe\">\n",
              "  <thead>\n",
              "    <tr style=\"text-align: right;\">\n",
              "      <th></th>\n",
              "      <th>question-X</th>\n",
              "      <th>answer-Y</th>\n",
              "      <th>goldstandard2</th>\n",
              "    </tr>\n",
              "  </thead>\n",
              "  <tbody>\n",
              "    <tr>\n",
              "      <th>0</th>\n",
              "      <td>Will you be going to the big New Year's Eve pa...</td>\n",
              "      <td>I have not made plans yet.</td>\n",
              "      <td>In the middle, neither yes nor no</td>\n",
              "    </tr>\n",
              "    <tr>\n",
              "      <th>1</th>\n",
              "      <td>Do you enjoy water sports?</td>\n",
              "      <td>I surf.</td>\n",
              "      <td>Yes</td>\n",
              "    </tr>\n",
              "    <tr>\n",
              "      <th>2</th>\n",
              "      <td>Have you heard Mozart?</td>\n",
              "      <td>Of course</td>\n",
              "      <td>Yes</td>\n",
              "    </tr>\n",
              "    <tr>\n",
              "      <th>3</th>\n",
              "      <td>Have you ever listened to Papa Roach?</td>\n",
              "      <td>I have not heard of Papa Roach</td>\n",
              "      <td>No</td>\n",
              "    </tr>\n",
              "    <tr>\n",
              "      <th>4</th>\n",
              "      <td>Have you been well?</td>\n",
              "      <td>I was sick last week with a cold.</td>\n",
              "      <td>No</td>\n",
              "    </tr>\n",
              "    <tr>\n",
              "      <th>...</th>\n",
              "      <td>...</td>\n",
              "      <td>...</td>\n",
              "      <td>...</td>\n",
              "    </tr>\n",
              "    <tr>\n",
              "      <th>20555</th>\n",
              "      <td>Do you enjoy long books?</td>\n",
              "      <td>I can never get through them.</td>\n",
              "      <td>No</td>\n",
              "    </tr>\n",
              "    <tr>\n",
              "      <th>20556</th>\n",
              "      <td>Do you listen to music on the radio?</td>\n",
              "      <td>I no longer listen to the radio with Spotify a...</td>\n",
              "      <td>No</td>\n",
              "    </tr>\n",
              "    <tr>\n",
              "      <th>20557</th>\n",
              "      <td>Did you read the Game of Thrones books?</td>\n",
              "      <td>I didn't read any of the Game of Thrones.</td>\n",
              "      <td>No</td>\n",
              "    </tr>\n",
              "    <tr>\n",
              "      <th>20558</th>\n",
              "      <td>Have you ever been here before?</td>\n",
              "      <td>Once, long ago.</td>\n",
              "      <td>Yes</td>\n",
              "    </tr>\n",
              "    <tr>\n",
              "      <th>20559</th>\n",
              "      <td>Was the airport crowded?</td>\n",
              "      <td>It was rather empty.</td>\n",
              "      <td>No</td>\n",
              "    </tr>\n",
              "  </tbody>\n",
              "</table>\n",
              "<p>20560 rows × 3 columns</p>\n",
              "</div>"
            ],
            "text/plain": [
              "                                              question-X  ...                      goldstandard2\n",
              "0      Will you be going to the big New Year's Eve pa...  ...  In the middle, neither yes nor no\n",
              "1                             Do you enjoy water sports?  ...                                Yes\n",
              "2                                 Have you heard Mozart?  ...                                Yes\n",
              "3                  Have you ever listened to Papa Roach?  ...                                 No\n",
              "4                                    Have you been well?  ...                                 No\n",
              "...                                                  ...  ...                                ...\n",
              "20555                           Do you enjoy long books?  ...                                 No\n",
              "20556               Do you listen to music on the radio?  ...                                 No\n",
              "20557            Did you read the Game of Thrones books?  ...                                 No\n",
              "20558                    Have you ever been here before?  ...                                Yes\n",
              "20559                           Was the airport crowded?  ...                                 No\n",
              "\n",
              "[20560 rows x 3 columns]"
            ]
          },
          "metadata": {},
          "execution_count": 26
        }
      ]
    },
    {
      "cell_type": "code",
      "metadata": {
        "colab": {
          "base_uri": "https://localhost:8080/"
        },
        "id": "dfwckfxlE5LC",
        "outputId": "9b5c196c-3ea6-416a-df68-91dc0fcb97e6"
      },
      "source": [
        "df_circa_train['goldstandard2'] = df_circa_train['goldstandard2'].replace(np.nan, 'N/A')\n",
        "df_circa_train['goldstandard2'] = df_circa_train['goldstandard2'].astype(str)\n",
        "df_circa_train['final'] = df_circa_train['question-X'].str.cat(df_circa_train['answer-Y'],sep=\" [SEP] \")\n",
        "df_circa_train['final']"
      ],
      "execution_count": null,
      "outputs": [
        {
          "output_type": "execute_result",
          "data": {
            "text/plain": [
              "0        Will you be going to the big New Year's Eve pa...\n",
              "1                 Do you enjoy water sports? [SEP] I surf.\n",
              "2                   Have you heard Mozart? [SEP] Of course\n",
              "3        Have you ever listened to Papa Roach? [SEP] I ...\n",
              "4        Have you been well? [SEP] I was sick last week...\n",
              "                               ...                        \n",
              "20555    Do you enjoy long books? [SEP] I can never get...\n",
              "20556    Do you listen to music on the radio? [SEP] I n...\n",
              "20557    Did you read the Game of Thrones books? [SEP] ...\n",
              "20558    Have you ever been here before? [SEP] Once, lo...\n",
              "20559    Was the airport crowded? [SEP] It was rather e...\n",
              "Name: final, Length: 20560, dtype: object"
            ]
          },
          "metadata": {},
          "execution_count": 27
        }
      ]
    },
    {
      "cell_type": "code",
      "metadata": {
        "colab": {
          "base_uri": "https://localhost:8080/",
          "height": 423
        },
        "id": "XC2MPxppE-yd",
        "outputId": "21652fdf-2e13-4391-c064-d4b7f7f6a20b"
      },
      "source": [
        "y_circa_train = pd.get_dummies(df_circa_train.goldstandard2, prefix='con')\n",
        "y_circa_train"
      ],
      "execution_count": null,
      "outputs": [
        {
          "output_type": "execute_result",
          "data": {
            "text/html": [
              "<div>\n",
              "<style scoped>\n",
              "    .dataframe tbody tr th:only-of-type {\n",
              "        vertical-align: middle;\n",
              "    }\n",
              "\n",
              "    .dataframe tbody tr th {\n",
              "        vertical-align: top;\n",
              "    }\n",
              "\n",
              "    .dataframe thead th {\n",
              "        text-align: right;\n",
              "    }\n",
              "</style>\n",
              "<table border=\"1\" class=\"dataframe\">\n",
              "  <thead>\n",
              "    <tr style=\"text-align: right;\">\n",
              "      <th></th>\n",
              "      <th>con_In the middle, neither yes nor no</th>\n",
              "      <th>con_N/A</th>\n",
              "      <th>con_No</th>\n",
              "      <th>con_Other</th>\n",
              "      <th>con_Yes</th>\n",
              "      <th>con_Yes, subject to some conditions</th>\n",
              "    </tr>\n",
              "  </thead>\n",
              "  <tbody>\n",
              "    <tr>\n",
              "      <th>0</th>\n",
              "      <td>1</td>\n",
              "      <td>0</td>\n",
              "      <td>0</td>\n",
              "      <td>0</td>\n",
              "      <td>0</td>\n",
              "      <td>0</td>\n",
              "    </tr>\n",
              "    <tr>\n",
              "      <th>1</th>\n",
              "      <td>0</td>\n",
              "      <td>0</td>\n",
              "      <td>0</td>\n",
              "      <td>0</td>\n",
              "      <td>1</td>\n",
              "      <td>0</td>\n",
              "    </tr>\n",
              "    <tr>\n",
              "      <th>2</th>\n",
              "      <td>0</td>\n",
              "      <td>0</td>\n",
              "      <td>0</td>\n",
              "      <td>0</td>\n",
              "      <td>1</td>\n",
              "      <td>0</td>\n",
              "    </tr>\n",
              "    <tr>\n",
              "      <th>3</th>\n",
              "      <td>0</td>\n",
              "      <td>0</td>\n",
              "      <td>1</td>\n",
              "      <td>0</td>\n",
              "      <td>0</td>\n",
              "      <td>0</td>\n",
              "    </tr>\n",
              "    <tr>\n",
              "      <th>4</th>\n",
              "      <td>0</td>\n",
              "      <td>0</td>\n",
              "      <td>1</td>\n",
              "      <td>0</td>\n",
              "      <td>0</td>\n",
              "      <td>0</td>\n",
              "    </tr>\n",
              "    <tr>\n",
              "      <th>...</th>\n",
              "      <td>...</td>\n",
              "      <td>...</td>\n",
              "      <td>...</td>\n",
              "      <td>...</td>\n",
              "      <td>...</td>\n",
              "      <td>...</td>\n",
              "    </tr>\n",
              "    <tr>\n",
              "      <th>20555</th>\n",
              "      <td>0</td>\n",
              "      <td>0</td>\n",
              "      <td>1</td>\n",
              "      <td>0</td>\n",
              "      <td>0</td>\n",
              "      <td>0</td>\n",
              "    </tr>\n",
              "    <tr>\n",
              "      <th>20556</th>\n",
              "      <td>0</td>\n",
              "      <td>0</td>\n",
              "      <td>1</td>\n",
              "      <td>0</td>\n",
              "      <td>0</td>\n",
              "      <td>0</td>\n",
              "    </tr>\n",
              "    <tr>\n",
              "      <th>20557</th>\n",
              "      <td>0</td>\n",
              "      <td>0</td>\n",
              "      <td>1</td>\n",
              "      <td>0</td>\n",
              "      <td>0</td>\n",
              "      <td>0</td>\n",
              "    </tr>\n",
              "    <tr>\n",
              "      <th>20558</th>\n",
              "      <td>0</td>\n",
              "      <td>0</td>\n",
              "      <td>0</td>\n",
              "      <td>0</td>\n",
              "      <td>1</td>\n",
              "      <td>0</td>\n",
              "    </tr>\n",
              "    <tr>\n",
              "      <th>20559</th>\n",
              "      <td>0</td>\n",
              "      <td>0</td>\n",
              "      <td>1</td>\n",
              "      <td>0</td>\n",
              "      <td>0</td>\n",
              "      <td>0</td>\n",
              "    </tr>\n",
              "  </tbody>\n",
              "</table>\n",
              "<p>20560 rows × 6 columns</p>\n",
              "</div>"
            ],
            "text/plain": [
              "       con_In the middle, neither yes nor no  ...  con_Yes, subject to some conditions\n",
              "0                                          1  ...                                    0\n",
              "1                                          0  ...                                    0\n",
              "2                                          0  ...                                    0\n",
              "3                                          0  ...                                    0\n",
              "4                                          0  ...                                    0\n",
              "...                                      ...  ...                                  ...\n",
              "20555                                      0  ...                                    0\n",
              "20556                                      0  ...                                    0\n",
              "20557                                      0  ...                                    0\n",
              "20558                                      0  ...                                    0\n",
              "20559                                      0  ...                                    0\n",
              "\n",
              "[20560 rows x 6 columns]"
            ]
          },
          "metadata": {},
          "execution_count": 28
        }
      ]
    },
    {
      "cell_type": "code",
      "metadata": {
        "colab": {
          "base_uri": "https://localhost:8080/"
        },
        "id": "cbPyCGwvFB96",
        "outputId": "caf9d08f-9d67-4629-95ac-0f391f1a3d7b"
      },
      "source": [
        "model.fit(df_circa_train['final'], y_circa_train, epochs=3, batch_size=16)"
      ],
      "execution_count": null,
      "outputs": [
        {
          "output_type": "stream",
          "name": "stdout",
          "text": [
            "Epoch 1/3\n",
            "1285/1285 [==============================] - 1055s 816ms/step - loss: 0.6684 - accuracy: 0.9256 - precision: 0.7995 - recall: 0.7392\n",
            "Epoch 2/3\n",
            "1285/1285 [==============================] - 1047s 815ms/step - loss: 0.4107 - accuracy: 0.9567 - precision: 0.8837 - recall: 0.8521\n",
            "Epoch 3/3\n",
            "1285/1285 [==============================] - 1049s 816ms/step - loss: 0.2743 - accuracy: 0.9717 - precision: 0.9281 - recall: 0.9000\n"
          ]
        },
        {
          "output_type": "execute_result",
          "data": {
            "text/plain": [
              "<keras.callbacks.History at 0x7f4448d42f50>"
            ]
          },
          "metadata": {},
          "execution_count": 29
        }
      ]
    },
    {
      "cell_type": "code",
      "metadata": {
        "colab": {
          "base_uri": "https://localhost:8080/"
        },
        "id": "nooqcw94FDLG",
        "outputId": "bcf0cf96-ee84-45db-ed9b-f61d388acb65"
      },
      "source": [
        "df_valid = pd.read_excel('/content/drive/MyDrive/DL project/circa_test.xlsx')\n",
        "#print(df_valid['goldstandard2'].value_counts())\n",
        "df_valid['goldstandard2'] = df_valid['goldstandard2'].replace(np.nan, 'N/A')\n",
        "df_valid['goldstandard2'] = df_valid['goldstandard2'].astype(str)\n",
        "df_valid['F'] = df_valid['question-X'].str.cat(df_valid['answer-Y'],sep=\" [SEP] \")\n",
        "df_valid['F']\n",
        "print(df_valid['F'].value_counts())"
      ],
      "execution_count": null,
      "outputs": [
        {
          "output_type": "stream",
          "name": "stdout",
          "text": [
            "Would you like to meet me for a drink? [SEP] I'm not drinking this month.            2\n",
            "Want to eat some spicy food? [SEP] Spicy food hurts my stomach.                      2\n",
            "Did you get a job in that area? [SEP] I'm still looking.                             2\n",
            "Does it have two bedrooms? [SEP] It's a studio.                                      2\n",
            "Did you enjoy the train ride up here? [SEP] It was very scenic.                      2\n",
            "                                                                                    ..\n",
            "Have you had pizza recently [SEP] I had a New York slice last week.                  1\n",
            "Do you stay up late? [SEP] I can party all night.                                    1\n",
            "Do your folks still live it the same place? [SEP] They're still in the old house.    1\n",
            "Do you still live in the same area? [SEP] I just moved back.                         1\n",
            "Are you vegetarian or vegan? [SEP] I'm a vegan.                                      1\n",
            "Name: F, Length: 6840, dtype: int64\n"
          ]
        }
      ]
    },
    {
      "cell_type": "code",
      "metadata": {
        "colab": {
          "base_uri": "https://localhost:8080/",
          "height": 423
        },
        "id": "0DbnxydhFGSH",
        "outputId": "e244f849-6e00-47ed-a545-75ad07dde9ff"
      },
      "source": [
        "y_valid = pd.get_dummies(df_valid.goldstandard2, prefix='con')\n",
        "y_valid"
      ],
      "execution_count": null,
      "outputs": [
        {
          "output_type": "execute_result",
          "data": {
            "text/html": [
              "<div>\n",
              "<style scoped>\n",
              "    .dataframe tbody tr th:only-of-type {\n",
              "        vertical-align: middle;\n",
              "    }\n",
              "\n",
              "    .dataframe tbody tr th {\n",
              "        vertical-align: top;\n",
              "    }\n",
              "\n",
              "    .dataframe thead th {\n",
              "        text-align: right;\n",
              "    }\n",
              "</style>\n",
              "<table border=\"1\" class=\"dataframe\">\n",
              "  <thead>\n",
              "    <tr style=\"text-align: right;\">\n",
              "      <th></th>\n",
              "      <th>con_In the middle, neither yes nor no</th>\n",
              "      <th>con_N/A</th>\n",
              "      <th>con_No</th>\n",
              "      <th>con_Other</th>\n",
              "      <th>con_Yes</th>\n",
              "      <th>con_Yes, subject to some conditions</th>\n",
              "    </tr>\n",
              "  </thead>\n",
              "  <tbody>\n",
              "    <tr>\n",
              "      <th>0</th>\n",
              "      <td>0</td>\n",
              "      <td>0</td>\n",
              "      <td>0</td>\n",
              "      <td>0</td>\n",
              "      <td>1</td>\n",
              "      <td>0</td>\n",
              "    </tr>\n",
              "    <tr>\n",
              "      <th>1</th>\n",
              "      <td>0</td>\n",
              "      <td>0</td>\n",
              "      <td>0</td>\n",
              "      <td>1</td>\n",
              "      <td>0</td>\n",
              "      <td>0</td>\n",
              "    </tr>\n",
              "    <tr>\n",
              "      <th>2</th>\n",
              "      <td>0</td>\n",
              "      <td>0</td>\n",
              "      <td>0</td>\n",
              "      <td>0</td>\n",
              "      <td>0</td>\n",
              "      <td>1</td>\n",
              "    </tr>\n",
              "    <tr>\n",
              "      <th>3</th>\n",
              "      <td>0</td>\n",
              "      <td>0</td>\n",
              "      <td>1</td>\n",
              "      <td>0</td>\n",
              "      <td>0</td>\n",
              "      <td>0</td>\n",
              "    </tr>\n",
              "    <tr>\n",
              "      <th>4</th>\n",
              "      <td>0</td>\n",
              "      <td>0</td>\n",
              "      <td>1</td>\n",
              "      <td>0</td>\n",
              "      <td>0</td>\n",
              "      <td>0</td>\n",
              "    </tr>\n",
              "    <tr>\n",
              "      <th>...</th>\n",
              "      <td>...</td>\n",
              "      <td>...</td>\n",
              "      <td>...</td>\n",
              "      <td>...</td>\n",
              "      <td>...</td>\n",
              "      <td>...</td>\n",
              "    </tr>\n",
              "    <tr>\n",
              "      <th>6849</th>\n",
              "      <td>0</td>\n",
              "      <td>0</td>\n",
              "      <td>0</td>\n",
              "      <td>0</td>\n",
              "      <td>1</td>\n",
              "      <td>0</td>\n",
              "    </tr>\n",
              "    <tr>\n",
              "      <th>6850</th>\n",
              "      <td>0</td>\n",
              "      <td>0</td>\n",
              "      <td>0</td>\n",
              "      <td>0</td>\n",
              "      <td>1</td>\n",
              "      <td>0</td>\n",
              "    </tr>\n",
              "    <tr>\n",
              "      <th>6851</th>\n",
              "      <td>0</td>\n",
              "      <td>0</td>\n",
              "      <td>0</td>\n",
              "      <td>0</td>\n",
              "      <td>1</td>\n",
              "      <td>0</td>\n",
              "    </tr>\n",
              "    <tr>\n",
              "      <th>6852</th>\n",
              "      <td>0</td>\n",
              "      <td>0</td>\n",
              "      <td>1</td>\n",
              "      <td>0</td>\n",
              "      <td>0</td>\n",
              "      <td>0</td>\n",
              "    </tr>\n",
              "    <tr>\n",
              "      <th>6853</th>\n",
              "      <td>0</td>\n",
              "      <td>0</td>\n",
              "      <td>0</td>\n",
              "      <td>0</td>\n",
              "      <td>1</td>\n",
              "      <td>0</td>\n",
              "    </tr>\n",
              "  </tbody>\n",
              "</table>\n",
              "<p>6854 rows × 6 columns</p>\n",
              "</div>"
            ],
            "text/plain": [
              "      con_In the middle, neither yes nor no  ...  con_Yes, subject to some conditions\n",
              "0                                         0  ...                                    0\n",
              "1                                         0  ...                                    0\n",
              "2                                         0  ...                                    1\n",
              "3                                         0  ...                                    0\n",
              "4                                         0  ...                                    0\n",
              "...                                     ...  ...                                  ...\n",
              "6849                                      0  ...                                    0\n",
              "6850                                      0  ...                                    0\n",
              "6851                                      0  ...                                    0\n",
              "6852                                      0  ...                                    0\n",
              "6853                                      0  ...                                    0\n",
              "\n",
              "[6854 rows x 6 columns]"
            ]
          },
          "metadata": {},
          "execution_count": 31
        }
      ]
    },
    {
      "cell_type": "code",
      "metadata": {
        "colab": {
          "base_uri": "https://localhost:8080/"
        },
        "id": "jGnuGXO0FIbA",
        "outputId": "1c292861-ead2-4d6f-debf-4e9833622b2b"
      },
      "source": [
        "model.evaluate(df_valid['F'], y_valid)"
      ],
      "execution_count": null,
      "outputs": [
        {
          "output_type": "stream",
          "name": "stdout",
          "text": [
            "215/215 [==============================] - 131s 609ms/step - loss: 0.5588 - accuracy: 0.9494 - precision: 0.8555 - recall: 0.8381\n"
          ]
        },
        {
          "output_type": "execute_result",
          "data": {
            "text/plain": [
              "[0.5587805509567261, 0.949421226978302, 0.85552579164505, 0.8380507826805115]"
            ]
          },
          "metadata": {},
          "execution_count": 32
        }
      ]
    },
    {
      "cell_type": "code",
      "metadata": {
        "id": "97tr6kpPFJqB"
      },
      "source": [
        "y_predicted = model.predict(df_valid['F'])"
      ],
      "execution_count": null,
      "outputs": []
    },
    {
      "cell_type": "code",
      "metadata": {
        "colab": {
          "base_uri": "https://localhost:8080/"
        },
        "id": "cKZKTv3fFKtm",
        "outputId": "06dca401-8c08-40cf-f57b-a1f8a3ac34da"
      },
      "source": [
        "y_predicted.shape"
      ],
      "execution_count": null,
      "outputs": [
        {
          "output_type": "execute_result",
          "data": {
            "text/plain": [
              "(6854, 6)"
            ]
          },
          "metadata": {},
          "execution_count": 34
        }
      ]
    },
    {
      "cell_type": "code",
      "metadata": {
        "colab": {
          "base_uri": "https://localhost:8080/"
        },
        "id": "fLernsB7FLww",
        "outputId": "3cf02339-59f3-43de-84ab-b435b853798c"
      },
      "source": [
        "pred_results = tf.cast(tf.equal(y_predicted, tf.reduce_max(y_predicted, axis = 1, keepdims=True)), tf.float32)\n",
        "pred_results"
      ],
      "execution_count": null,
      "outputs": [
        {
          "output_type": "execute_result",
          "data": {
            "text/plain": [
              "<tf.Tensor: shape=(6854, 6), dtype=float32, numpy=\n",
              "array([[0., 0., 0., 0., 1., 0.],\n",
              "       [0., 0., 0., 1., 0., 0.],\n",
              "       [0., 0., 0., 0., 0., 1.],\n",
              "       ...,\n",
              "       [0., 0., 0., 0., 1., 0.],\n",
              "       [0., 0., 1., 0., 0., 0.],\n",
              "       [0., 0., 0., 0., 1., 0.]], dtype=float32)>"
            ]
          },
          "metadata": {},
          "execution_count": 35
        }
      ]
    },
    {
      "cell_type": "code",
      "metadata": {
        "id": "drdDg_d0FM3N"
      },
      "source": [
        "pred_results = pd.DataFrame(pred_results.numpy(), columns = ['con_In the middle, neither yes nor no',\n",
        "                                       'con_N/A','con_No',\n",
        "                                       'con_Other', \t\n",
        "                                       'con_Yes',\n",
        "                                       'con_Yes, subject to some conditions'\t  \t\n",
        "                                       ])\n",
        "\n",
        "pred_results.shape\n",
        "pred_results.to_numpy()\n",
        "pred_results = [np.where(r==1)[0][0] for r in pred_results.to_numpy()]\n",
        "pred_results = pd.DataFrame(pred_results, columns=['goldstandard2'])\n",
        "\n",
        "pred_results['goldstandard2'] = pred_results['goldstandard2'].map({0:'In the middle, neither yes nor no', \n",
        "                                                   1:'N/A',\n",
        "                                                   2:'No', \n",
        "                                                   3:'Other', \n",
        "                                                   4:'Yes' ,\n",
        "                                                   5:'Yes, subject to some conditions',})"
      ],
      "execution_count": null,
      "outputs": []
    },
    {
      "cell_type": "code",
      "metadata": {
        "id": "SoTKdW36FQmd"
      },
      "source": [
        "y_valid.shape\n",
        "y_valid.to_numpy()\n",
        "validation_gtruths = [np.where(r==1)[0][0] for r in y_valid.to_numpy()]\n",
        "validation_gtruths = pd.DataFrame(validation_gtruths, columns=['goldstandard2'])\n",
        "\n",
        "validation_gtruths['goldstandard2'] = validation_gtruths['goldstandard2'].map({0:'In the middle, neither yes nor no', \n",
        "                                                   1:'N/A',\n",
        "                                                   2:'No', \n",
        "                                                   3:'Other', \n",
        "                                                   4:'Yes' ,\n",
        "                                                   5:'Yes, subject to some conditions',})"
      ],
      "execution_count": null,
      "outputs": []
    },
    {
      "cell_type": "code",
      "metadata": {
        "colab": {
          "base_uri": "https://localhost:8080/"
        },
        "id": "ZyxGeGzOFTkw",
        "outputId": "dde05353-8ddf-4310-8f04-bfc8273eb62d"
      },
      "source": [
        "from sklearn.metrics import classification_report\n",
        "print(classification_report(pred_results['goldstandard2'], validation_gtruths['goldstandard2']))"
      ],
      "execution_count": null,
      "outputs": [
        {
          "output_type": "stream",
          "name": "stdout",
          "text": [
            "                                   precision    recall  f1-score   support\n",
            "\n",
            "In the middle, neither yes nor no       0.37      0.35      0.36       192\n",
            "                              N/A       0.01      0.40      0.03         5\n",
            "                               No       0.84      0.87      0.86      2512\n",
            "                            Other       1.00      0.87      0.93       143\n",
            "                              Yes       0.91      0.86      0.88      3531\n",
            "  Yes, subject to some conditions       0.86      0.86      0.86       471\n",
            "\n",
            "                         accuracy                           0.85      6854\n",
            "                        macro avg       0.67      0.70      0.65      6854\n",
            "                     weighted avg       0.87      0.85      0.86      6854\n",
            "\n"
          ]
        }
      ]
    },
    {
      "cell_type": "code",
      "metadata": {
        "id": "dCRbA-FOFWTW",
        "colab": {
          "base_uri": "https://localhost:8080/",
          "height": 505
        },
        "outputId": "53ebec2d-c92c-45e4-cefd-7b908476a4f7"
      },
      "source": [
        "from sklearn.metrics import confusion_matrix\n",
        "cmat = confusion_matrix(validation_gtruths['goldstandard2'], pred_results['goldstandard2'])\n",
        "\n",
        "import numpy as np\n",
        "import itertools\n",
        "import matplotlib.pyplot as plt\n",
        "\n",
        "# Method to get a more visual interpretation\n",
        "# source: https://www.kaggle.com/fuzzywizard/fashion-mnist-cnn-keras-accuracy-93\n",
        "def plot_confusion_matrix(cm, classes,\n",
        "                          normalize=False,\n",
        "                          title='BERT-DIS-YN Confusion matrix',\n",
        "                          cmap=plt.cm.Reds): # Vary color by cm.Oranges, cm.Reds etc.\n",
        "    plt.figure(figsize=(7,7)) # Vary for size adjustments\n",
        "    plt.imshow(cm, interpolation='nearest', cmap=cmap)\n",
        "    plt.title(title)\n",
        "    plt.colorbar()\n",
        "    tick_marks = np.arange(len(classes))\n",
        "    plt.xticks(tick_marks, classes, rotation=90)\n",
        "    plt.yticks(tick_marks, classes)\n",
        "\n",
        "    if normalize:\n",
        "        cm = cm.astype('float') / cm.sum(axis=1)[:, np.newaxis]\n",
        "\n",
        "    thresh = cm.max() / 2.\n",
        "    for i, j in itertools.product(range(cm.shape[0]), range(cm.shape[1])):\n",
        "        plt.text(j, i, cm[i, j],\n",
        "                 horizontalalignment=\"center\",\n",
        "                 color=\"white\" if cm[i, j] > thresh else \"black\")\n",
        "\n",
        "    plt.tight_layout()\n",
        "    plt.ylabel('True label')\n",
        "    plt.xlabel('Predicted label')\n",
        "\n",
        "# Call the plot_confusion_matrix method - Make sure the class labels are in the correct order here!\n",
        "plot_confusion_matrix(cmat, \n",
        "            classes = ['In the Middle','N/A','No','Other','Yes','Conditional Yes'])"
      ],
      "execution_count": null,
      "outputs": [
        {
          "output_type": "display_data",
          "data": {
            "image/png": "[encoded data removed]",
            "text/plain": [
              "<Figure size 504x504 with 2 Axes>"
            ]
          },
          "metadata": {
            "needs_background": "light"
          }
        }
      ]
    },
    {
      "cell_type": "code",
      "metadata": {
        "id": "HGOshGbE5GRY"
      },
      "source": [
        ""
      ],
      "execution_count": null,
      "outputs": []
    }
  ]
}